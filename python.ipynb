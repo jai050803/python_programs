{
 "cells": [
  {
   "cell_type": "code",
   "execution_count": 2,
   "metadata": {},
   "outputs": [],
   "source": [
    "import numpy as np #importing the numpy library and given alias name as np"
   ]
  },
  {
   "cell_type": "markdown",
   "metadata": {},
   "source": [
    "to check the version of the numpy library"
   ]
  },
  {
   "cell_type": "code",
   "execution_count": 3,
   "metadata": {},
   "outputs": [
    {
     "name": "stdout",
     "output_type": "stream",
     "text": [
      "1.21.5\n"
     ]
    }
   ],
   "source": [
    "print(np.__version__)"
   ]
  },
  {
   "cell_type": "markdown",
   "metadata": {},
   "source": [
    "to check the dimensions of the array"
   ]
  },
  {
   "cell_type": "code",
   "execution_count": 5,
   "metadata": {},
   "outputs": [
    {
     "name": "stdout",
     "output_type": "stream",
     "text": [
      "3\n"
     ]
    }
   ],
   "source": [
    "a = np.array([[[12]]])\n",
    "print(a.ndim)"
   ]
  },
  {
   "cell_type": "markdown",
   "metadata": {},
   "source": [
    "to get the dimensions of the numpy without using the print function"
   ]
  },
  {
   "cell_type": "code",
   "execution_count": 6,
   "metadata": {},
   "outputs": [
    {
     "data": {
      "text/plain": [
       "4"
      ]
     },
     "execution_count": 6,
     "metadata": {},
     "output_type": "execute_result"
    }
   ],
   "source": [
    "a = np.array([[[[1,2]]]])\n",
    "a.ndim"
   ]
  },
  {
   "cell_type": "markdown",
   "metadata": {},
   "source": [
    "to set the dimension of the array as you want we use the ndmin attribute"
   ]
  },
  {
   "cell_type": "code",
   "execution_count": 12,
   "metadata": {},
   "outputs": [
    {
     "name": "stdout",
     "output_type": "stream",
     "text": [
      "[[[[[12 23 24]]]]]\n",
      "5\n"
     ]
    }
   ],
   "source": [
    "a = np.array([12,23,24] , ndmin=5)\n",
    "print(a)\n",
    "print(a.ndim)"
   ]
  },
  {
   "cell_type": "markdown",
   "metadata": {},
   "source": [
    "to make a 3D array"
   ]
  },
  {
   "cell_type": "code",
   "execution_count": 24,
   "metadata": {},
   "outputs": [
    {
     "name": "stdout",
     "output_type": "stream",
     "text": [
      "[[[1 2 3]\n",
      "  [4 5 6]]\n",
      "\n",
      " [[4 8 9]\n",
      "  [56 75 31]]]\n"
     ]
    },
    {
     "data": {
      "text/plain": [
       "3"
      ]
     },
     "execution_count": 24,
     "metadata": {},
     "output_type": "execute_result"
    }
   ],
   "source": [
    "a = np.array([[(1,2,3),(4,5,6)],[(4,8,9),(56,75,31)]], dtype=tuple)\n",
    "print(a)\n",
    "a.ndim"
   ]
  },
  {
   "cell_type": "markdown",
   "metadata": {},
   "source": [
    "converting a list, tuple or dictionary into an array"
   ]
  },
  {
   "cell_type": "code",
   "execution_count": 27,
   "metadata": {},
   "outputs": [
    {
     "name": "stdout",
     "output_type": "stream",
     "text": [
      "<class 'tuple'>\n",
      "[12 34 43]\n",
      "<class 'numpy.ndarray'>\n",
      "<class 'tuple'>\n",
      "<class 'list'>\n",
      "[ 12  23 454]\n",
      "<class 'numpy.ndarray'>\n",
      "[12, 23, 454]\n",
      "<class 'list'>\n"
     ]
    }
   ],
   "source": [
    "z = (12,34,43)\n",
    "print(type(z))\n",
    "a = np.array(z)\n",
    "print(a)\n",
    "print(type(a))\n",
    "print(type(z))\n",
    "x = [12,23,454]\n",
    "print(type(x))\n",
    "y = np.array(x)\n",
    "print(y)\n",
    "print(type(y))\n",
    "print(x)\n",
    "print(type(x)) #original do not change"
   ]
  },
  {
   "cell_type": "markdown",
   "metadata": {},
   "source": [
    "convertng dictionary into an array"
   ]
  },
  {
   "cell_type": "code",
   "execution_count": 28,
   "metadata": {},
   "outputs": [
    {
     "name": "stdout",
     "output_type": "stream",
     "text": [
      "<class 'dict'>\n",
      "{'Ram': 1, 'Shyam': 2}\n",
      "<class 'numpy.ndarray'>\n",
      "<class 'dict'>\n"
     ]
    }
   ],
   "source": [
    "b = {\"Ram\" :1 , \"Shyam\" : 2}\n",
    "print(type(b))\n",
    "a = np.array(b)\n",
    "print(a)\n",
    "print(type(a))\n",
    "print(type(b))"
   ]
  },
  {
   "cell_type": "markdown",
   "metadata": {},
   "source": [
    "to get the shape and size of the array. Shape is the rows and columns of the array and size give number of elements"
   ]
  },
  {
   "cell_type": "code",
   "execution_count": 37,
   "metadata": {},
   "outputs": [
    {
     "data": {
      "text/plain": [
       "(2, 3)"
      ]
     },
     "execution_count": 37,
     "metadata": {},
     "output_type": "execute_result"
    }
   ],
   "source": [
    "y = np.array([[1,2,3], [4,5,6]])\n",
    "y.shape"
   ]
  },
  {
   "cell_type": "code",
   "execution_count": 38,
   "metadata": {},
   "outputs": [
    {
     "data": {
      "text/plain": [
       "6"
      ]
     },
     "execution_count": 38,
     "metadata": {},
     "output_type": "execute_result"
    }
   ],
   "source": [
    "y.size"
   ]
  },
  {
   "cell_type": "markdown",
   "metadata": {},
   "source": [
    "to get the elements from the array, we use the indexing and slicing of the array"
   ]
  },
  {
   "cell_type": "code",
   "execution_count": 40,
   "metadata": {},
   "outputs": [
    {
     "name": "stdout",
     "output_type": "stream",
     "text": [
      "2\n",
      "2nd element on first row is  2\n",
      "3rd element on first row is  3\n",
      "2nd element on second row is  5\n"
     ]
    }
   ],
   "source": [
    "print(y.ndim)\n",
    "print(\"2nd element on first row is \" , y[0,1])\n",
    "print(\"3rd element on first row is \" , y[0,2])\n",
    "print(\"2nd element on second row is \" , y[1][1])"
   ]
  },
  {
   "cell_type": "markdown",
   "metadata": {},
   "source": [
    "to get the element from the 3d array"
   ]
  },
  {
   "cell_type": "code",
   "execution_count": 46,
   "metadata": {},
   "outputs": [
    {
     "name": "stdout",
     "output_type": "stream",
     "text": [
      "[[[ 1  2  3]\n",
      "  [ 4  5  6]]\n",
      "\n",
      " [[ 7  8  9]\n",
      "  [10 11 12]]]\n",
      "6\n"
     ]
    }
   ],
   "source": [
    "arr = np.array([[[1,2,3],[4,5,6]],[[7,8,9],[10,11,12]]])\n",
    "print(arr)\n",
    "print(arr[0,1,2])"
   ]
  }
 ],
 "metadata": {
  "kernelspec": {
   "display_name": "base",
   "language": "python",
   "name": "python3"
  },
  "language_info": {
   "codemirror_mode": {
    "name": "ipython",
    "version": 3
   },
   "file_extension": ".py",
   "mimetype": "text/x-python",
   "name": "python",
   "nbconvert_exporter": "python",
   "pygments_lexer": "ipython3",
   "version": "3.9.12"
  }
 },
 "nbformat": 4,
 "nbformat_minor": 2
}
